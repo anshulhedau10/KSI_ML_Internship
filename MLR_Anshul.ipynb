{
 "cells": [
  {
   "cell_type": "markdown",
   "metadata": {},
   "source": [
    "# Importing the basic libraries"
   ]
  },
  {
   "cell_type": "code",
   "execution_count": 1,
   "metadata": {
    "ExecuteTime": {
     "end_time": "2020-07-06T13:44:44.542693Z",
     "start_time": "2020-07-06T13:44:42.984999Z"
    }
   },
   "outputs": [],
   "source": [
    "import numpy as np\n",
    "import pandas as pd\n",
    "import matplotlib.pyplot as plt"
   ]
  },
  {
   "cell_type": "code",
   "execution_count": 2,
   "metadata": {
    "ExecuteTime": {
     "end_time": "2020-07-06T13:44:44.583160Z",
     "start_time": "2020-07-06T13:44:44.542693Z"
    }
   },
   "outputs": [
    {
     "name": "stdout",
     "output_type": "stream",
     "text": [
      "      age     sex     bmi  children smoker     region      charges\n",
      "0      19  female  27.900         0    yes  southwest  16884.92400\n",
      "1      18    male  33.770         1     no  southeast   1725.55230\n",
      "2      28    male  33.000         3     no  southeast   4449.46200\n",
      "3      33    male  22.705         0     no  northwest  21984.47061\n",
      "4      32    male  28.880         0     no  northwest   3866.85520\n",
      "...   ...     ...     ...       ...    ...        ...          ...\n",
      "1333   50    male  30.970         3     no  northwest  10600.54830\n",
      "1334   18  female  31.920         0     no  northeast   2205.98080\n",
      "1335   18  female  36.850         0     no  southeast   1629.83350\n",
      "1336   21  female  25.800         0     no  southwest   2007.94500\n",
      "1337   61  female  29.070         0    yes  northwest  29141.36030\n",
      "\n",
      "[1338 rows x 7 columns]\n"
     ]
    }
   ],
   "source": [
    "dataset = pd.read_csv('E:/Anshul/Mentorrbuddy Machine Learning/Project - 2/insurance.csv')\n",
    "print(dataset)"
   ]
  },
  {
   "cell_type": "markdown",
   "metadata": {},
   "source": [
    "# EDA"
   ]
  },
  {
   "cell_type": "code",
   "execution_count": 3,
   "metadata": {
    "ExecuteTime": {
     "end_time": "2020-07-06T13:44:44.714647Z",
     "start_time": "2020-07-06T13:44:44.588155Z"
    }
   },
   "outputs": [
    {
     "data": {
      "text/plain": [
       "age         0\n",
       "sex         0\n",
       "bmi         0\n",
       "children    0\n",
       "smoker      0\n",
       "region      0\n",
       "charges     0\n",
       "dtype: int64"
      ]
     },
     "execution_count": 3,
     "metadata": {},
     "output_type": "execute_result"
    }
   ],
   "source": [
    "dataset.isna().sum()"
   ]
  },
  {
   "cell_type": "code",
   "execution_count": 4,
   "metadata": {
    "ExecuteTime": {
     "end_time": "2020-07-06T13:44:44.844063Z",
     "start_time": "2020-07-06T13:44:44.717647Z"
    }
   },
   "outputs": [
    {
     "name": "stdout",
     "output_type": "stream",
     "text": [
      "sex\n",
      "male      676\n",
      "female    662\n",
      "Name: sex, dtype: int64\n"
     ]
    }
   ],
   "source": [
    "print('sex')\n",
    "print(dataset['sex'].value_counts())"
   ]
  },
  {
   "cell_type": "code",
   "execution_count": 5,
   "metadata": {
    "ExecuteTime": {
     "end_time": "2020-07-06T13:44:44.991432Z",
     "start_time": "2020-07-06T13:44:44.848060Z"
    }
   },
   "outputs": [
    {
     "name": "stdout",
     "output_type": "stream",
     "text": [
      "smoker\n",
      "no     1064\n",
      "yes     274\n",
      "Name: smoker, dtype: int64\n"
     ]
    }
   ],
   "source": [
    "print('smoker')\n",
    "print(dataset['smoker'].value_counts())"
   ]
  },
  {
   "cell_type": "code",
   "execution_count": 6,
   "metadata": {
    "ExecuteTime": {
     "end_time": "2020-07-06T13:44:45.111284Z",
     "start_time": "2020-07-06T13:44:44.995430Z"
    }
   },
   "outputs": [
    {
     "name": "stdout",
     "output_type": "stream",
     "text": [
      "region\n",
      "southeast    364\n",
      "southwest    325\n",
      "northwest    325\n",
      "northeast    324\n",
      "Name: region, dtype: int64\n"
     ]
    }
   ],
   "source": [
    "print('region')\n",
    "print(dataset['region'].value_counts())"
   ]
  },
  {
   "cell_type": "code",
   "execution_count": 7,
   "metadata": {
    "ExecuteTime": {
     "end_time": "2020-07-06T13:44:45.225851Z",
     "start_time": "2020-07-06T13:44:45.118279Z"
    }
   },
   "outputs": [
    {
     "name": "stdout",
     "output_type": "stream",
     "text": [
      "age Mean and Median :\n",
      "39.20702541106129\n",
      "39.0\n",
      "bmi Mean and Median :\n",
      "30.66339686098655\n",
      "30.4\n",
      "children Mean and Median :\n",
      "1.0949177877429\n",
      "1.0\n"
     ]
    }
   ],
   "source": [
    "print('age Mean and Median :')\n",
    "print(dataset['age'].mean())\n",
    "print(dataset['age'].median())\n",
    "print('bmi Mean and Median :')\n",
    "print(dataset['bmi'].mean())\n",
    "print(dataset['bmi'].median())\n",
    "print('children Mean and Median :')\n",
    "print(dataset['children'].mean())\n",
    "print(dataset['children'].median())"
   ]
  },
  {
   "cell_type": "markdown",
   "metadata": {},
   "source": [
    "#### No outliers are present"
   ]
  },
  {
   "cell_type": "markdown",
   "metadata": {},
   "source": [
    "# Data Preprocessing"
   ]
  },
  {
   "cell_type": "markdown",
   "metadata": {},
   "source": [
    "## Extracting x and y"
   ]
  },
  {
   "cell_type": "code",
   "execution_count": 8,
   "metadata": {
    "ExecuteTime": {
     "end_time": "2020-07-06T13:44:45.352827Z",
     "start_time": "2020-07-06T13:44:45.230847Z"
    }
   },
   "outputs": [],
   "source": [
    "x = dataset.iloc[ : ,  :-1 ].values\n",
    "y = dataset.iloc[ : , -1 ].values"
   ]
  },
  {
   "cell_type": "code",
   "execution_count": 9,
   "metadata": {
    "ExecuteTime": {
     "end_time": "2020-07-06T13:44:45.508416Z",
     "start_time": "2020-07-06T13:44:45.356252Z"
    }
   },
   "outputs": [
    {
     "name": "stdout",
     "output_type": "stream",
     "text": [
      "[[19 'female' 27.9 0 'yes' 'southwest']\n",
      " [18 'male' 33.77 1 'no' 'southeast']\n",
      " [28 'male' 33.0 3 'no' 'southeast']\n",
      " ...\n",
      " [18 'female' 36.85 0 'no' 'southeast']\n",
      " [21 'female' 25.8 0 'no' 'southwest']\n",
      " [61 'female' 29.07 0 'yes' 'northwest']]\n"
     ]
    }
   ],
   "source": [
    "print(x)"
   ]
  },
  {
   "cell_type": "code",
   "execution_count": 10,
   "metadata": {
    "ExecuteTime": {
     "end_time": "2020-07-06T13:44:45.697485Z",
     "start_time": "2020-07-06T13:44:45.511413Z"
    }
   },
   "outputs": [
    {
     "name": "stdout",
     "output_type": "stream",
     "text": [
      "[16884.924   1725.5523  4449.462  ...  1629.8335  2007.945  29141.3603]\n"
     ]
    }
   ],
   "source": [
    "print(y)"
   ]
  },
  {
   "cell_type": "markdown",
   "metadata": {},
   "source": [
    "## Encoding the categorical data"
   ]
  },
  {
   "cell_type": "code",
   "execution_count": 11,
   "metadata": {
    "ExecuteTime": {
     "end_time": "2020-07-06T13:44:46.861778Z",
     "start_time": "2020-07-06T13:44:45.701482Z"
    }
   },
   "outputs": [
    {
     "name": "stdout",
     "output_type": "stream",
     "text": [
      "[[1.0 0.0 0.0 ... 19 27.9 0]\n",
      " [0.0 1.0 1.0 ... 18 33.77 1]\n",
      " [0.0 1.0 1.0 ... 28 33.0 3]\n",
      " ...\n",
      " [1.0 0.0 1.0 ... 18 36.85 0]\n",
      " [1.0 0.0 1.0 ... 21 25.8 0]\n",
      " [1.0 0.0 0.0 ... 61 29.07 0]]\n"
     ]
    }
   ],
   "source": [
    "from sklearn.compose import ColumnTransformer\n",
    "from sklearn.preprocessing import OneHotEncoder\n",
    "ct = ColumnTransformer(transformers = [('encoder', OneHotEncoder(), [1,4,5])], remainder = 'passthrough')\n",
    "x = np.array(ct.fit_transform(x ))\n",
    "print(x)"
   ]
  },
  {
   "cell_type": "markdown",
   "metadata": {},
   "source": [
    "## splitting x and y into training set and test set    "
   ]
  },
  {
   "cell_type": "code",
   "execution_count": 12,
   "metadata": {
    "ExecuteTime": {
     "end_time": "2020-07-06T13:44:46.944442Z",
     "start_time": "2020-07-06T13:44:46.865776Z"
    }
   },
   "outputs": [],
   "source": [
    "from sklearn.model_selection import train_test_split\n",
    "x_train, x_test, y_train, y_test = train_test_split(x, y ,random_state = 0, test_size = 0.2)"
   ]
  },
  {
   "cell_type": "markdown",
   "metadata": {},
   "source": [
    "## Creating and training the ML Model for MLR"
   ]
  },
  {
   "cell_type": "code",
   "execution_count": 13,
   "metadata": {
    "ExecuteTime": {
     "end_time": "2020-07-06T13:44:47.087839Z",
     "start_time": "2020-07-06T13:44:46.947439Z"
    }
   },
   "outputs": [
    {
     "data": {
      "text/plain": [
       "LinearRegression()"
      ]
     },
     "execution_count": 13,
     "metadata": {},
     "output_type": "execute_result"
    }
   ],
   "source": [
    "from sklearn.linear_model import LinearRegression\n",
    "reg = LinearRegression()\n",
    "reg.fit(x_train, y_train)"
   ]
  },
  {
   "cell_type": "code",
   "execution_count": 14,
   "metadata": {
    "ExecuteTime": {
     "end_time": "2020-07-06T13:44:47.161811Z",
     "start_time": "2020-07-06T13:44:47.091834Z"
    }
   },
   "outputs": [],
   "source": [
    "y_pred = reg.predict(x_test)"
   ]
  },
  {
   "cell_type": "code",
   "execution_count": 15,
   "metadata": {
    "ExecuteTime": {
     "end_time": "2020-07-06T13:44:47.309926Z",
     "start_time": "2020-07-06T13:44:47.164808Z"
    }
   },
   "outputs": [
    {
     "name": "stdout",
     "output_type": "stream",
     "text": [
      "[[11169.93  9724.53]\n",
      " [ 9486.71  8547.69]\n",
      " [38181.12 45702.02]\n",
      " [16266.31 12950.07]\n",
      " [ 6914.65  9644.25]\n",
      " [ 3963.48  4500.34]\n",
      " [ 1579.4   2198.19]\n",
      " [14385.26 11436.74]\n",
      " [ 9012.58  7537.16]\n",
      " [ 7508.46  5425.02]\n",
      " [ 4491.77  6753.04]\n",
      " [10279.58 10493.95]\n",
      " [ 8801.3   7337.75]\n",
      " [ 3798.02  4185.1 ]\n",
      " [27926.2  18310.74]\n",
      " [10715.12 10702.64]\n",
      " [11288.98 12523.6 ]\n",
      " [ 6105.02  3490.55]\n",
      " [ 8241.04  6457.84]\n",
      " [27144.51 33475.82]\n",
      " [33644.09 23967.38]\n",
      " [14355.1  12643.38]\n",
      " [11737.2  23045.57]\n",
      " [32137.43 23065.42]\n",
      " [ 4170.06  1674.63]\n",
      " [ 9254.96  4667.61]\n",
      " [ 1084.34  3732.63]\n",
      " [ 9804.17  7682.67]\n",
      " [ 3771.05  3756.62]\n",
      " [10431.86  8413.46]\n",
      " [ 9009.32  8059.68]\n",
      " [40074.95 48970.25]\n",
      " [15688.95 12979.36]\n",
      " [13879.45 20630.28]\n",
      " [24759.71 14571.89]\n",
      " [ 5166.38  4137.52]\n",
      " [12610.93  8347.16]\n",
      " [30769.1  51194.56]\n",
      " [33549.83 40003.33]\n",
      " [ 3671.55  1880.49]\n",
      " [ 3975.69  5458.05]\n",
      " [ 3987.3   2867.12]\n",
      " [30528.58 20149.32]\n",
      " [39505.3  47496.49]\n",
      " [27810.5  36149.48]\n",
      " [ 5092.59 26018.95]\n",
      " [10604.25 19749.38]\n",
      " [ 7829.52  6940.91]\n",
      " [ 3592.56  4718.2 ]\n",
      " [10212.87 22192.44]\n",
      " [ 5720.38  2899.49]\n",
      " [ 3426.27 18838.7 ]\n",
      " [33021.02 23568.27]\n",
      " [38473.82 46255.11]\n",
      " [16053.48 24227.34]\n",
      " [ 7164.92  3268.85]\n",
      " [ 5739.2   2322.62]\n",
      " [ 9454.13  8827.21]\n",
      " [ 8910.63 14478.33]\n",
      " [11725.89 13112.6 ]\n",
      " [ 1856.96  1253.94]\n",
      " [38914.36 46718.16]\n",
      " [14899.67 13919.82]\n",
      " [11804.96  9630.4 ]\n",
      " [14050.4  10736.87]\n",
      " [14056.14  9880.07]\n",
      " [25831.39 32548.34]\n",
      " [32230.55 38746.36]\n",
      " [  814.4   3180.51]\n",
      " [10164.84  8162.72]\n",
      " [12359.86 13041.92]\n",
      " [11527.82 11554.22]\n",
      " [25245.33 16232.85]\n",
      " [15622.01 13887.97]\n",
      " [11208.69 13012.21]\n",
      " [12649.73 13217.09]\n",
      " [ 6556.71  7147.1 ]\n",
      " [ 9590.52  7731.43]\n",
      " [30186.3  20296.86]\n",
      " [39107.62 47403.88]\n",
      " [12049.84 11658.38]\n",
      " [37294.27 45863.21]\n",
      " [ 4265.51  2055.32]\n",
      " [ 9394.02  7441.05]\n",
      " [34852.77 41034.22]\n",
      " [28847.7  18972.49]\n",
      " [ 8687.92  3410.32]\n",
      " [ 4929.23  2699.57]\n",
      " [12038.73 12333.83]\n",
      " [30470.03 36837.47]\n",
      " [10080.41  6334.34]\n",
      " [11393.33 10214.64]\n",
      " [ 8398.1  17878.9 ]\n",
      " [ 8898.84  8515.76]\n",
      " [ 8431.79  4518.83]\n",
      " [ 7323.52  5148.55]\n",
      " [36024.03 42303.69]\n",
      " [33182.25 38998.55]\n",
      " [ 7661.51  5327.4 ]\n",
      " [15141.04 10602.39]\n",
      " [ 4017.24  1824.29]\n",
      " [ 8828.72  5377.46]\n",
      " [ 6322.85  4349.46]\n",
      " [31548.62 37742.58]\n",
      " [32978.61 32787.46]\n",
      " [ 1974.83  3353.47]\n",
      " [ 9026.52 10577.09]\n",
      " [ 6696.83  3556.92]\n",
      " [14584.44 11944.59]\n",
      " [37241.14 52590.83]\n",
      " [10135.47 12475.35]\n",
      " [10584.29  4266.17]\n",
      " [10228.93  9249.5 ]\n",
      " [26988.19 33732.69]\n",
      " [39900.15 48675.52]\n",
      " [ 8462.73  7729.65]\n",
      " [  296.62  1964.78]\n",
      " [ 9016.15  8444.47]\n",
      " [15263.97 12347.17]\n",
      " [ 9526.65  9301.89]\n",
      " [35152.64 42124.52]\n",
      " [ 7264.1   9991.04]\n",
      " [16984.53 14319.03]\n",
      " [ 9653.3   5428.73]\n",
      " [ 8248.69  7626.99]\n",
      " [ 2941.14  4906.41]\n",
      " [32914.81 23401.31]\n",
      " [31483.56 21098.55]\n",
      " [39626.48 48173.36]\n",
      " [ 5607.63  1917.32]\n",
      " [ 9310.34  8219.2 ]\n",
      " [ 3592.17  1725.55]\n",
      " [ 7646.88  5976.83]\n",
      " [ 8627.47  9361.33]\n",
      " [31733.84 22144.03]\n",
      " [29973.   35491.64]\n",
      " [29781.75 19515.54]\n",
      " [ 8726.06 10107.22]\n",
      " [32433.53 23244.79]\n",
      " [ 3360.29  2789.06]\n",
      " [ 3709.74  2261.57]\n",
      " [11137.55 10594.5 ]\n",
      " [13150.29  9304.7 ]\n",
      " [12867.47 10435.07]\n",
      " [ 5448.84  4894.75]\n",
      " [15580.06 14313.85]\n",
      " [14933.25 28287.9 ]\n",
      " [ 2408.34 14426.07]\n",
      " [   25.51  1627.28]\n",
      " [10846.81 25517.11]\n",
      " [ 7409.48  6555.07]\n",
      " [31852.23 39611.76]\n",
      " [12383.7   9964.06]\n",
      " [ 2335.67  1720.35]\n",
      " [ 6478.18  2730.11]\n",
      " [ 7858.63  6500.24]\n",
      " [ 4447.09  2643.27]\n",
      " [ 2113.93  1719.44]\n",
      " [11354.82 11085.59]\n",
      " [12540.63 10115.01]\n",
      " [ 7264.45  4846.92]\n",
      " [16387.61 12982.87]\n",
      " [11815.1  28923.14]\n",
      " [14107.87  9391.35]\n",
      " [ 3184.3   4544.23]\n",
      " [ 7291.34 17128.43]\n",
      " [23125.7  13844.51]\n",
      " [ 7592.56  6113.23]\n",
      " [ 5490.45  4441.21]\n",
      " [ 5203.3   1633.96]\n",
      " [ 6758.91  4058.71]\n",
      " [ 5198.17  4435.09]\n",
      " [10003.75  8310.84]\n",
      " [ 5379.62  1986.93]\n",
      " [ 5734.83  4260.74]\n",
      " [ 6641.85  4504.66]\n",
      " [ 3698.1   4428.89]\n",
      " [ 5568.35  6117.49]\n",
      " [38062.31 30184.94]\n",
      " [ 1500.1   1708.93]\n",
      " [12638.14 11187.66]\n",
      " [ 8966.83  6796.86]\n",
      " [13783.35 11356.66]\n",
      " [ 5401.61  2498.41]\n",
      " [ 5188.39 27375.9 ]\n",
      " [36459.44 28101.33]\n",
      " [ 4397.97  2254.8 ]\n",
      " [ 2044.02  2597.78]\n",
      " [15223.64 14692.67]\n",
      " [12679.75 10370.91]\n",
      " [35138.52 41097.16]\n",
      " [ 4780.69  3981.98]\n",
      " [ 5681.54  5472.45]\n",
      " [31230.04 21223.68]\n",
      " [ 6207.52  2534.39]\n",
      " [ 2151.17  1972.95]\n",
      " [ 8438.97  6406.41]\n",
      " [10046.86  6551.75]\n",
      " [ 8002.37  4058.12]\n",
      " [ 5804.81  4243.59]\n",
      " [13160.26 11512.41]\n",
      " [38467.45 46889.26]\n",
      " [13750.32 12268.63]\n",
      " [28876.41 19199.94]\n",
      " [ 6787.56  4433.39]\n",
      " [35530.82 42969.85]\n",
      " [ 3766.83 23241.47]\n",
      " [11891.94  9140.95]\n",
      " [ 9059.61  5836.52]\n",
      " [ 6259.55  1149.4 ]\n",
      " [11362.46  8765.25]\n",
      " [14561.46 14043.48]\n",
      " [ 5167.    5312.17]\n",
      " [ 4466.25 10795.94]\n",
      " [ 7908.87  6282.23]\n",
      " [ 1344.86  1969.61]\n",
      " [ 7856.19  6746.74]\n",
      " [ 4417.49  5354.07]\n",
      " [12887.55 14001.29]\n",
      " [ 4241.46  6877.98]\n",
      " [10113.11  6196.45]\n",
      " [ 7196.51  7986.48]\n",
      " [ 9296.93  8277.52]\n",
      " [ 2397.81  3206.49]\n",
      " [13244.98 11848.14]\n",
      " [16867.83 14210.54]\n",
      " [14941.66 12265.51]\n",
      " [10590.87 11837.16]\n",
      " [ 5290.07  6652.53]\n",
      " [ 2233.38  2137.65]\n",
      " [ 1935.71  1131.51]\n",
      " [13508.93  8342.91]\n",
      " [14052.87 12244.53]\n",
      " [ 5018.61  4561.19]\n",
      " [ 3759.49 17626.24]\n",
      " [ 9488.06  6875.96]\n",
      " [ 9978.4   9447.38]\n",
      " [28286.98 34254.05]\n",
      " [ 7649.35  6067.13]\n",
      " [10470.99 11729.68]\n",
      " [ 6323.17  5383.54]\n",
      " [29854.76 37465.34]\n",
      " [11149.74  7371.77]\n",
      " [ 7507.    7325.05]\n",
      " [10233.7   8410.05]\n",
      " [12247.97 10461.98]\n",
      " [ 3007.36  3279.87]\n",
      " [10875.42  7727.25]\n",
      " [ 1540.96  2731.91]\n",
      " [ 7038.04  6858.48]\n",
      " [28446.21 19521.97]\n",
      " [38689.95 47305.31]\n",
      " [ 6369.94  3987.93]\n",
      " [ 8192.18  3238.44]\n",
      " [ 2536.89  7323.73]\n",
      " [  446.86  1704.57]\n",
      " [10569.89  7445.92]\n",
      " [ 4205.49  1629.83]\n",
      " [ 4955.01  4877.98]\n",
      " [ 2343.17  3561.89]\n",
      " [ 6807.28  8605.36]\n",
      " [33409.5  24520.26]\n",
      " [38246.76 45710.21]\n",
      " [14760.23 15019.76]\n",
      " [ 8277.98  6664.69]\n",
      " [16149.97 20709.02]\n",
      " [32904.76 40932.43]\n",
      " [ 9467.61  9500.57]]\n"
     ]
    }
   ],
   "source": [
    "np.set_printoptions(precision= 2, suppress = True)\n",
    "print(np.concatenate((y_pred.reshape(len(y_pred), 1), y_test.reshape(len(y_test), 1)), 1))"
   ]
  },
  {
   "cell_type": "markdown",
   "metadata": {},
   "source": [
    "## mse, rmse, r2_score (Before Backward Elimination)"
   ]
  },
  {
   "cell_type": "code",
   "execution_count": 16,
   "metadata": {
    "ExecuteTime": {
     "end_time": "2020-07-06T13:44:47.475485Z",
     "start_time": "2020-07-06T13:44:47.312926Z"
    }
   },
   "outputs": [],
   "source": [
    "import sklearn.metrics as met\n",
    "mse = met.mean_squared_error(y_test, y_pred)\n",
    "rmse = np.sqrt(mse)\n",
    "r2 = met.r2_score(y_test, y_pred)"
   ]
  },
  {
   "cell_type": "code",
   "execution_count": 17,
   "metadata": {
    "ExecuteTime": {
     "end_time": "2020-07-06T13:44:47.642798Z",
     "start_time": "2020-07-06T13:44:47.478673Z"
    }
   },
   "outputs": [
    {
     "name": "stdout",
     "output_type": "stream",
     "text": [
      "Mean Squared Error :  31827950.229523778\n",
      "Root Mean Squared Error :  5641.626558850185\n",
      "R2_Score :  0.7999876970680437\n"
     ]
    }
   ],
   "source": [
    "print('Mean Squared Error : ', mse)\n",
    "print('Root Mean Squared Error : ', rmse)\n",
    "print('R2_Score : ', r2)"
   ]
  },
  {
   "cell_type": "markdown",
   "metadata": {},
   "source": [
    "## Backward Elimination"
   ]
  },
  {
   "cell_type": "code",
   "execution_count": 18,
   "metadata": {
    "ExecuteTime": {
     "end_time": "2020-07-06T13:44:47.787459Z",
     "start_time": "2020-07-06T13:44:47.645797Z"
    }
   },
   "outputs": [
    {
     "name": "stdout",
     "output_type": "stream",
     "text": [
      "[[1 0.0 0.0 ... 19 27.9 0]\n",
      " [1 1.0 1.0 ... 18 33.77 1]\n",
      " [1 1.0 1.0 ... 28 33.0 3]\n",
      " ...\n",
      " [1 0.0 1.0 ... 18 36.85 0]\n",
      " [1 0.0 1.0 ... 21 25.8 0]\n",
      " [1 0.0 0.0 ... 61 29.07 0]]\n"
     ]
    }
   ],
   "source": [
    "X_back = x[ : , 1 : ]\n",
    "X_back = np.append(arr = np.ones((1338, 1)).astype(int), values = X_back, axis = 1)\n",
    "print(X_back)"
   ]
  },
  {
   "cell_type": "code",
   "execution_count": 19,
   "metadata": {
    "ExecuteTime": {
     "end_time": "2020-07-06T13:44:48.739464Z",
     "start_time": "2020-07-06T13:44:47.791457Z"
    }
   },
   "outputs": [],
   "source": [
    "import statsmodels.api as sm\n",
    "def backward_elimination(x, SL):\n",
    "    numCol = len(x[0])\n",
    "    for i in range(0, numCol):\n",
    "        regressor_OLS = sm.OLS(endog = y, exog = x).fit()\n",
    "        maxCol = max(regressor_OLS.pvalues).astype(float)\n",
    "        if maxCol > SL:\n",
    "            for j in range(0, numCol - i):\n",
    "                if (regressor_OLS.pvalues[j].astype(float) == maxCol):\n",
    "                    x = np.delete(x, j, axis = 1)\n",
    "                    print(regressor_OLS.summary())\n",
    "    print(regressor_OLS.summary())\n",
    "    return x"
   ]
  },
  {
   "cell_type": "code",
   "execution_count": 20,
   "metadata": {
    "ExecuteTime": {
     "end_time": "2020-07-06T13:44:48.889460Z",
     "start_time": "2020-07-06T13:44:48.739464Z"
    }
   },
   "outputs": [
    {
     "name": "stdout",
     "output_type": "stream",
     "text": [
      "                            OLS Regression Results                            \n",
      "==============================================================================\n",
      "Dep. Variable:                      y   R-squared:                       0.751\n",
      "Model:                            OLS   Adj. R-squared:                  0.749\n",
      "Method:                 Least Squares   F-statistic:                     500.8\n",
      "Date:                Mon, 06 Jul 2020   Prob (F-statistic):               0.00\n",
      "Time:                        19:14:48   Log-Likelihood:                -13548.\n",
      "No. Observations:                1338   AIC:                         2.711e+04\n",
      "Df Residuals:                    1329   BIC:                         2.716e+04\n",
      "Df Model:                           8                                         \n",
      "Covariance Type:            nonrobust                                         \n",
      "==============================================================================\n",
      "                 coef    std err          t      P>|t|      [0.025      0.975]\n",
      "------------------------------------------------------------------------------\n",
      "x1          -201.1179    418.353     -0.481      0.631   -1021.823     619.587\n",
      "x2          -332.4323    425.031     -0.782      0.434   -1166.237     501.372\n",
      "x3         -1.219e+04    419.605    -29.054      0.000    -1.3e+04   -1.14e+04\n",
      "x4          1.166e+04    457.738     25.468      0.000    1.08e+04    1.26e+04\n",
      "x5           453.6217    332.155      1.366      0.172    -197.983    1105.226\n",
      "x6           100.6578    333.891      0.301      0.763    -554.352     755.668\n",
      "x7          -581.4004    381.765     -1.523      0.128   -1330.328     167.527\n",
      "x8          -506.4293    351.178     -1.442      0.150   -1195.353     182.494\n",
      "x9           256.8564     11.899     21.587      0.000     233.514     280.199\n",
      "x10          339.1935     28.599     11.860      0.000     283.088     395.298\n",
      "x11          475.5005    137.804      3.451      0.001     205.163     745.838\n",
      "==============================================================================\n",
      "Omnibus:                      300.366   Durbin-Watson:                   2.088\n",
      "Prob(Omnibus):                  0.000   Jarque-Bera (JB):              718.887\n",
      "Skew:                           1.211   Prob(JB):                    7.86e-157\n",
      "Kurtosis:                       5.651   Cond. No.                     5.18e+16\n",
      "==============================================================================\n",
      "\n",
      "Warnings:\n",
      "[1] Standard Errors assume that the covariance matrix of the errors is correctly specified.\n",
      "[2] The smallest eigenvalue is 1.31e-27. This might indicate that there are\n",
      "strong multicollinearity problems or that the design matrix is singular.\n",
      "                            OLS Regression Results                            \n",
      "==============================================================================\n",
      "Dep. Variable:                      y   R-squared:                       0.751\n",
      "Model:                            OLS   Adj. R-squared:                  0.749\n",
      "Method:                 Least Squares   F-statistic:                     500.8\n",
      "Date:                Mon, 06 Jul 2020   Prob (F-statistic):               0.00\n",
      "Time:                        19:14:48   Log-Likelihood:                -13548.\n",
      "No. Observations:                1338   AIC:                         2.711e+04\n",
      "Df Residuals:                    1329   BIC:                         2.716e+04\n",
      "Df Model:                           8                                         \n",
      "Covariance Type:            nonrobust                                         \n",
      "==============================================================================\n",
      "                 coef    std err          t      P>|t|      [0.025      0.975]\n",
      "------------------------------------------------------------------------------\n",
      "x1          -150.7890    515.065     -0.293      0.770   -1161.218     859.640\n",
      "x2          -282.1034    522.057     -0.540      0.589   -1306.250     742.043\n",
      "x3         -1.214e+04    510.636    -23.776      0.000   -1.31e+04   -1.11e+04\n",
      "x4          1.171e+04    554.083     21.130      0.000    1.06e+04    1.28e+04\n",
      "x5           352.9639    476.276      0.741      0.459    -581.370    1287.298\n",
      "x6          -682.0581    478.959     -1.424      0.155   -1621.657     257.540\n",
      "x7          -607.0871    477.204     -1.272      0.204   -1543.242     329.068\n",
      "x8           256.8564     11.899     21.587      0.000     233.514     280.199\n",
      "x9           339.1935     28.599     11.860      0.000     283.088     395.298\n",
      "x10          475.5005    137.804      3.451      0.001     205.163     745.838\n",
      "==============================================================================\n",
      "Omnibus:                      300.366   Durbin-Watson:                   2.088\n",
      "Prob(Omnibus):                  0.000   Jarque-Bera (JB):              718.887\n",
      "Skew:                           1.211   Prob(JB):                    7.86e-157\n",
      "Kurtosis:                       5.651   Cond. No.                     3.13e+16\n",
      "==============================================================================\n",
      "\n",
      "Warnings:\n",
      "[1] Standard Errors assume that the covariance matrix of the errors is correctly specified.\n",
      "[2] The smallest eigenvalue is 3.59e-27. This might indicate that there are\n",
      "strong multicollinearity problems or that the design matrix is singular.\n",
      "                            OLS Regression Results                            \n",
      "==============================================================================\n",
      "Dep. Variable:                      y   R-squared:                       0.751\n",
      "Model:                            OLS   Adj. R-squared:                  0.749\n",
      "Method:                 Least Squares   F-statistic:                     500.8\n",
      "Date:                Mon, 06 Jul 2020   Prob (F-statistic):               0.00\n",
      "Time:                        19:14:48   Log-Likelihood:                -13548.\n",
      "No. Observations:                1338   AIC:                         2.711e+04\n",
      "Df Residuals:                    1329   BIC:                         2.716e+04\n",
      "Df Model:                           8                                         \n",
      "Covariance Type:            nonrobust                                         \n",
      "==============================================================================\n",
      "                 coef    std err          t      P>|t|      [0.025      0.975]\n",
      "------------------------------------------------------------------------------\n",
      "x1          -131.3144    332.945     -0.394      0.693    -784.470     521.842\n",
      "x2         -1.229e+04    988.196    -12.438      0.000   -1.42e+04   -1.04e+04\n",
      "x3          1.156e+04   1038.931     11.124      0.000    9518.909    1.36e+04\n",
      "x4           352.9639    476.276      0.741      0.459    -581.370    1287.298\n",
      "x5          -682.0581    478.959     -1.424      0.155   -1621.657     257.540\n",
      "x6          -607.0871    477.204     -1.272      0.204   -1543.242     329.068\n",
      "x7           256.8564     11.899     21.587      0.000     233.514     280.199\n",
      "x8           339.1935     28.599     11.860      0.000     283.088     395.298\n",
      "x9           475.5005    137.804      3.451      0.001     205.163     745.838\n",
      "==============================================================================\n",
      "Omnibus:                      300.366   Durbin-Watson:                   2.088\n",
      "Prob(Omnibus):                  0.000   Jarque-Bera (JB):              718.887\n",
      "Skew:                           1.211   Prob(JB):                    7.86e-157\n",
      "Kurtosis:                       5.651   Cond. No.                         438.\n",
      "==============================================================================\n",
      "\n",
      "Warnings:\n",
      "[1] Standard Errors assume that the covariance matrix of the errors is correctly specified.\n",
      "                            OLS Regression Results                            \n",
      "==============================================================================\n",
      "Dep. Variable:                      y   R-squared:                       0.751\n",
      "Model:                            OLS   Adj. R-squared:                  0.750\n",
      "Method:                 Least Squares   F-statistic:                     572.7\n",
      "Date:                Mon, 06 Jul 2020   Prob (F-statistic):               0.00\n",
      "Time:                        19:14:48   Log-Likelihood:                -13548.\n",
      "No. Observations:                1338   AIC:                         2.711e+04\n",
      "Df Residuals:                    1330   BIC:                         2.715e+04\n",
      "Df Model:                           7                                         \n",
      "Covariance Type:            nonrobust                                         \n",
      "==============================================================================\n",
      "                 coef    std err          t      P>|t|      [0.025      0.975]\n",
      "------------------------------------------------------------------------------\n",
      "x1         -1.234e+04    979.405    -12.602      0.000   -1.43e+04   -1.04e+04\n",
      "x2          1.149e+04   1026.179     11.201      0.000    9480.742    1.35e+04\n",
      "x3           352.1821    476.120      0.740      0.460    -581.847    1286.211\n",
      "x4          -682.1780    478.807     -1.425      0.154   -1621.477     257.121\n",
      "x5          -607.1926    477.052     -1.273      0.203   -1543.050     328.664\n",
      "x6           256.9736     11.891     21.610      0.000     233.646     280.301\n",
      "x7           338.6646     28.559     11.858      0.000     282.639     394.690\n",
      "x8           474.5665    137.740      3.445      0.001     204.355     744.778\n",
      "==============================================================================\n",
      "Omnibus:                      300.735   Durbin-Watson:                   2.089\n",
      "Prob(Omnibus):                  0.000   Jarque-Bera (JB):              720.516\n",
      "Skew:                           1.212   Prob(JB):                    3.48e-157\n",
      "Kurtosis:                       5.654   Cond. No.                         433.\n",
      "==============================================================================\n",
      "\n",
      "Warnings:\n",
      "[1] Standard Errors assume that the covariance matrix of the errors is correctly specified.\n",
      "                            OLS Regression Results                            \n",
      "==============================================================================\n",
      "Dep. Variable:                      y   R-squared:                       0.751\n",
      "Model:                            OLS   Adj. R-squared:                  0.750\n",
      "Method:                 Least Squares   F-statistic:                     668.3\n",
      "Date:                Mon, 06 Jul 2020   Prob (F-statistic):               0.00\n",
      "Time:                        19:14:48   Log-Likelihood:                -13548.\n",
      "No. Observations:                1338   AIC:                         2.711e+04\n",
      "Df Residuals:                    1331   BIC:                         2.715e+04\n",
      "Df Model:                           6                                         \n",
      "Covariance Type:            nonrobust                                         \n",
      "==============================================================================\n",
      "                 coef    std err          t      P>|t|      [0.025      0.975]\n",
      "------------------------------------------------------------------------------\n",
      "x1         -1.217e+04    949.538    -12.812      0.000    -1.4e+04   -1.03e+04\n",
      "x2          1.168e+04    995.186     11.735      0.000    9726.188    1.36e+04\n",
      "x3          -858.4696    415.206     -2.068      0.039   -1672.998     -43.941\n",
      "x4          -782.7452    413.756     -1.892      0.059   -1594.430      28.940\n",
      "x5           257.0064     11.889     21.617      0.000     233.683     280.330\n",
      "x6           338.6413     28.554     11.860      0.000     282.625     394.657\n",
      "x7           471.5441    137.656      3.426      0.001     201.498     741.590\n",
      "==============================================================================\n",
      "Omnibus:                      300.125   Durbin-Watson:                   2.092\n",
      "Prob(Omnibus):                  0.000   Jarque-Bera (JB):              716.587\n",
      "Skew:                           1.211   Prob(JB):                    2.48e-156\n",
      "Kurtosis:                       5.643   Cond. No.                         416.\n",
      "==============================================================================\n",
      "\n",
      "Warnings:\n",
      "[1] Standard Errors assume that the covariance matrix of the errors is correctly specified.\n",
      "                            OLS Regression Results                            \n",
      "==============================================================================\n",
      "Dep. Variable:                      y   R-squared:                       0.750\n",
      "Model:                            OLS   Adj. R-squared:                  0.749\n",
      "Method:                 Least Squares   F-statistic:                     799.7\n",
      "Date:                Mon, 06 Jul 2020   Prob (F-statistic):               0.00\n",
      "Time:                        19:14:48   Log-Likelihood:                -13550.\n",
      "No. Observations:                1338   AIC:                         2.711e+04\n",
      "Df Residuals:                    1332   BIC:                         2.714e+04\n",
      "Df Model:                           5                                         \n",
      "Covariance Type:            nonrobust                                         \n",
      "==============================================================================\n",
      "                 coef    std err          t      P>|t|      [0.025      0.975]\n",
      "------------------------------------------------------------------------------\n",
      "x1         -1.228e+04    948.666    -12.940      0.000   -1.41e+04   -1.04e+04\n",
      "x2          1.158e+04    994.740     11.640      0.000    9626.949    1.35e+04\n",
      "x3          -578.8620    388.384     -1.490      0.136   -1340.774     183.050\n",
      "x4           257.1365     11.901     21.607      0.000     233.791     280.482\n",
      "x5           333.4448     28.449     11.721      0.000     277.635     389.255\n",
      "x6           468.0668    137.777      3.397      0.001     197.783     738.350\n",
      "==============================================================================\n",
      "Omnibus:                      302.906   Durbin-Watson:                   2.089\n",
      "Prob(Omnibus):                  0.000   Jarque-Bera (JB):              726.891\n",
      "Skew:                           1.220   Prob(JB):                    1.44e-158\n",
      "Kurtosis:                       5.662   Cond. No.                         416.\n",
      "==============================================================================\n",
      "\n",
      "Warnings:\n",
      "[1] Standard Errors assume that the covariance matrix of the errors is correctly specified.\n",
      "                            OLS Regression Results                            \n",
      "==============================================================================\n",
      "Dep. Variable:                      y   R-squared:                       0.750\n",
      "Model:                            OLS   Adj. R-squared:                  0.749\n",
      "Method:                 Least Squares   F-statistic:                     998.1\n",
      "Date:                Mon, 06 Jul 2020   Prob (F-statistic):               0.00\n",
      "Time:                        19:14:48   Log-Likelihood:                -13551.\n",
      "No. Observations:                1338   AIC:                         2.711e+04\n",
      "Df Residuals:                    1333   BIC:                         2.714e+04\n",
      "Df Model:                           4                                         \n",
      "Covariance Type:            nonrobust                                         \n",
      "==============================================================================\n",
      "                 coef    std err          t      P>|t|      [0.025      0.975]\n",
      "------------------------------------------------------------------------------\n",
      "x1          -1.21e+04    941.984    -12.848      0.000    -1.4e+04   -1.03e+04\n",
      "x2          1.171e+04    991.347     11.811      0.000    9763.860    1.37e+04\n",
      "x3           257.8495     11.896     21.675      0.000     234.512     281.187\n",
      "x4           321.8514     27.378     11.756      0.000     268.143     375.559\n",
      "x5           473.5023    137.792      3.436      0.001     203.190     743.814\n",
      "==============================================================================\n",
      "Omnibus:                      301.480   Durbin-Watson:                   2.087\n",
      "Prob(Omnibus):                  0.000   Jarque-Bera (JB):              722.157\n",
      "Skew:                           1.215   Prob(JB):                    1.53e-157\n",
      "Kurtosis:                       5.654   Cond. No.                         413.\n",
      "==============================================================================\n",
      "\n",
      "Warnings:\n",
      "[1] Standard Errors assume that the covariance matrix of the errors is correctly specified.\n"
     ]
    }
   ],
   "source": [
    "X_opt = np.array(x[:, :], dtype = float)\n",
    "X_opt = backward_elimination(X_opt, 0.05)"
   ]
  },
  {
   "cell_type": "code",
   "execution_count": 21,
   "metadata": {
    "ExecuteTime": {
     "end_time": "2020-07-06T13:44:48.932435Z",
     "start_time": "2020-07-06T13:44:48.893456Z"
    }
   },
   "outputs": [
    {
     "name": "stdout",
     "output_type": "stream",
     "text": [
      "[[ 0.    1.   19.   27.9   0.  ]\n",
      " [ 1.    0.   18.   33.77  1.  ]\n",
      " [ 1.    0.   28.   33.    3.  ]\n",
      " ...\n",
      " [ 1.    0.   18.   36.85  0.  ]\n",
      " [ 1.    0.   21.   25.8   0.  ]\n",
      " [ 0.    1.   61.   29.07  0.  ]]\n"
     ]
    }
   ],
   "source": [
    "print(X_opt)"
   ]
  },
  {
   "cell_type": "markdown",
   "metadata": {},
   "source": [
    "## splitting x and y into training set and test set "
   ]
  },
  {
   "cell_type": "code",
   "execution_count": 22,
   "metadata": {
    "ExecuteTime": {
     "end_time": "2020-07-06T13:44:49.075088Z",
     "start_time": "2020-07-06T13:44:48.945425Z"
    }
   },
   "outputs": [],
   "source": [
    "x_train_1, x_test_1, y_train_1, y_test_1 = train_test_split(X_opt, y ,random_state = 0, test_size = 0.2)"
   ]
  },
  {
   "cell_type": "markdown",
   "metadata": {},
   "source": [
    "## Creating and training the ML Model for MLR"
   ]
  },
  {
   "cell_type": "code",
   "execution_count": 23,
   "metadata": {
    "ExecuteTime": {
     "end_time": "2020-07-06T13:44:49.255450Z",
     "start_time": "2020-07-06T13:44:49.082647Z"
    }
   },
   "outputs": [
    {
     "data": {
      "text/plain": [
       "LinearRegression()"
      ]
     },
     "execution_count": 23,
     "metadata": {},
     "output_type": "execute_result"
    }
   ],
   "source": [
    "reg.fit(x_train_1, y_train_1)"
   ]
  },
  {
   "cell_type": "code",
   "execution_count": 24,
   "metadata": {
    "ExecuteTime": {
     "end_time": "2020-07-06T13:44:49.395476Z",
     "start_time": "2020-07-06T13:44:49.259448Z"
    }
   },
   "outputs": [],
   "source": [
    "y_pred_1 = reg.predict(x_test_1)"
   ]
  },
  {
   "cell_type": "code",
   "execution_count": 25,
   "metadata": {
    "ExecuteTime": {
     "end_time": "2020-07-06T13:44:49.572211Z",
     "start_time": "2020-07-06T13:44:49.399048Z"
    }
   },
   "outputs": [
    {
     "name": "stdout",
     "output_type": "stream",
     "text": [
      "[[11461.22  9724.53]\n",
      " [ 9920.25  8547.69]\n",
      " [37782.65 45702.02]\n",
      " [15948.08 12950.07]\n",
      " [ 6880.18  9644.25]\n",
      " [ 3611.72  4500.34]\n",
      " [ 1116.04  2198.19]\n",
      " [14050.37 11436.74]\n",
      " [ 8755.91  7537.16]\n",
      " [ 7245.24  5425.02]\n",
      " [ 4141.89  6753.04]\n",
      " [10105.76 10493.95]\n",
      " [ 9070.29  7337.75]\n",
      " [ 4297.77  4185.1 ]\n",
      " [27698.89 18310.74]\n",
      " [11158.3  10702.64]\n",
      " [11185.2  12523.6 ]\n",
      " [ 5566.18  3490.55]\n",
      " [ 8020.78  6457.84]\n",
      " [26614.64 33475.82]\n",
      " [33491.4  23967.38]\n",
      " [14072.29 12643.38]\n",
      " [11247.09 23045.57]\n",
      " [32583.5  23065.42]\n",
      " [ 4526.14  1674.63]\n",
      " [ 8649.41  4667.61]\n",
      " [  772.17  3732.63]\n",
      " [10160.38  7682.67]\n",
      " [ 4246.31  3756.62]\n",
      " [10201.55  8413.46]\n",
      " [ 8778.52  8059.68]\n",
      " [40341.15 48970.25]\n",
      " [15888.84 12979.36]\n",
      " [14071.98 20630.28]\n",
      " [24375.44 14571.89]\n",
      " [ 4693.49  4137.52]\n",
      " [12917.27  8347.16]\n",
      " [30917.3  51194.56]\n",
      " [33245.26 40003.33]\n",
      " [ 3865.5   1880.49]\n",
      " [ 3634.32  5458.05]\n",
      " [ 4441.73  2867.12]\n",
      " [30088.45 20149.32]\n",
      " [39174.93 47496.49]\n",
      " [28081.32 36149.48]\n",
      " [ 4782.78 26018.95]\n",
      " [11052.5  19749.38]\n",
      " [ 7665.9   6940.91]\n",
      " [ 3205.14  4718.2 ]\n",
      " [10741.82 22192.44]\n",
      " [ 5132.19  2899.49]\n",
      " [ 3180.45 18838.7 ]\n",
      " [33323.53 23568.27]\n",
      " [37851.14 46255.11]\n",
      " [16314.95 24227.34]\n",
      " [ 6589.8   3268.85]\n",
      " [ 6075.05  2322.62]\n",
      " [ 9305.58  8827.21]\n",
      " [ 9388.16 14478.33]\n",
      " [11615.75 13112.6 ]\n",
      " [ 2135.69  1253.94]\n",
      " [38676.   46718.16]\n",
      " [15295.08 13919.82]\n",
      " [12055.12  9630.4 ]\n",
      " [13472.33 10736.87]\n",
      " [14188.    9880.07]\n",
      " [26220.2  32548.34]\n",
      " [31898.86 38746.36]\n",
      " [ 1323.3   3180.51]\n",
      " [ 9909.62  8162.72]\n",
      " [12684.18 13041.92]\n",
      " [12011.48 11554.22]\n",
      " [25529.35 16232.85]\n",
      " [15967.47 13887.97]\n",
      " [11093.83 13012.21]\n",
      " [12220.8  13217.09]\n",
      " [ 6967.95  7147.1 ]\n",
      " [10009.1   7731.43]\n",
      " [29734.93 20296.86]\n",
      " [39299.29 47403.88]\n",
      " [11596.88 11658.38]\n",
      " [37453.39 45863.21]\n",
      " [ 3993.91  2055.32]\n",
      " [ 9676.42  7441.05]\n",
      " [34280.18 41034.22]\n",
      " [29318.8  18972.49]\n",
      " [ 8743.51  3410.32]\n",
      " [ 4678.75  2699.57]\n",
      " [12380.35 12333.83]\n",
      " [30644.01 36837.47]\n",
      " [ 9449.58  6334.34]\n",
      " [11699.4  10214.64]\n",
      " [ 7713.33 17878.9 ]\n",
      " [ 9347.1   8515.76]\n",
      " [ 7875.96  4518.83]\n",
      " [ 6791.42  5148.55]\n",
      " [35538.64 42303.69]\n",
      " [33439.55 38998.55]\n",
      " [ 7362.96  5327.4 ]\n",
      " [15288.81 10602.39]\n",
      " [ 4393.16  1824.29]\n",
      " [ 8542.32  5377.46]\n",
      " [ 6670.18  4349.46]\n",
      " [31894.9  37742.58]\n",
      " [32754.18 32787.46]\n",
      " [ 1857.38  3353.47]\n",
      " [ 9453.54 10577.09]\n",
      " [ 6376.59  3556.92]\n",
      " [14056.19 11944.59]\n",
      " [37491.61 52590.83]\n",
      " [10033.25 12475.35]\n",
      " [10777.47  4266.17]\n",
      " [10018.11  9249.5 ]\n",
      " [26439.75 33732.69]\n",
      " [40148.62 48675.52]\n",
      " [ 8035.53  7729.65]\n",
      " [  673.06  1964.78]\n",
      " [ 9366.5   8444.47]\n",
      " [15458.29 12347.17]\n",
      " [ 9364.12  9301.89]\n",
      " [35465.09 42124.52]\n",
      " [ 7226.53  9991.04]\n",
      " [17136.21 14319.03]\n",
      " [ 9031.01  5428.73]\n",
      " [ 8555.77  7626.99]\n",
      " [ 2832.45  4906.41]\n",
      " [32467.4  23401.31]\n",
      " [31352.4  21098.55]\n",
      " [39768.01 48173.36]\n",
      " [ 5261.88  1917.32]\n",
      " [ 9726.95  8219.2 ]\n",
      " [ 3936.8   1725.55]\n",
      " [ 8048.72  5976.83]\n",
      " [ 8281.28  9361.33]\n",
      " [32004.39 22144.03]\n",
      " [30221.11 35491.64]\n",
      " [30285.87 19515.54]\n",
      " [ 9246.5  10107.22]\n",
      " [32956.82 23244.79]\n",
      " [ 3156.49  2789.06]\n",
      " [ 3423.05  2261.57]\n",
      " [10976.4  10594.5 ]\n",
      " [13470.57  9304.7 ]\n",
      " [12366.21 10435.07]\n",
      " [ 5291.08  4894.75]\n",
      " [15940.3  14313.85]\n",
      " [15272.33 28287.9 ]\n",
      " [ 2246.85 14426.07]\n",
      " [  -91.01  1627.28]\n",
      " [10451.43 25517.11]\n",
      " [ 6950.6   6555.07]\n",
      " [32068.93 39611.76]\n",
      " [11879.55  9964.06]\n",
      " [ 2737.68  1720.35]\n",
      " [ 6065.79  2730.11]\n",
      " [ 8276.52  6500.24]\n",
      " [ 4180.79  2643.27]\n",
      " [ 2526.07  1719.44]\n",
      " [11145.48 11085.59]\n",
      " [12238.55 10115.01]\n",
      " [ 6712.7   4846.92]\n",
      " [16700.01 12982.87]\n",
      " [11672.54 28923.14]\n",
      " [14252.13  9391.35]\n",
      " [ 2827.65  4544.23]\n",
      " [ 6713.38 17128.43]\n",
      " [23478.91 13844.51]\n",
      " [ 7062.49  6113.23]\n",
      " [ 5043.97  4441.21]\n",
      " [ 5446.    1633.96]\n",
      " [ 6464.91  4058.71]\n",
      " [ 4740.06  4435.09]\n",
      " [ 9752.52  8310.84]\n",
      " [ 5706.17  1986.93]\n",
      " [ 5980.08  4260.74]\n",
      " [ 6977.97  4504.66]\n",
      " [ 3308.49  4428.89]\n",
      " [ 5469.42  6117.49]\n",
      " [37576.04 30184.94]\n",
      " [ 1055.12  1708.93]\n",
      " [12382.31 11187.66]\n",
      " [ 8714.16  6796.86]\n",
      " [13527.09 11356.66]\n",
      " [ 5765.73  2498.41]\n",
      " [ 4807.86 27375.9 ]\n",
      " [36044.17 28101.33]\n",
      " [ 3872.08  2254.8 ]\n",
      " [ 2338.75  2597.78]\n",
      " [14976.84 14692.67]\n",
      " [12135.2  10370.91]\n",
      " [34629.29 41097.16]\n",
      " [ 5172.73  3981.98]\n",
      " [ 6003.01  5472.45]\n",
      " [31745.17 21223.68]\n",
      " [ 5885.8   2534.39]\n",
      " [ 2480.75  1972.95]\n",
      " [ 7948.56  6406.41]\n",
      " [ 9430.42  6551.75]\n",
      " [ 8300.61  4058.12]\n",
      " [ 5592.22  4243.59]\n",
      " [12644.46 11512.41]\n",
      " [38857.76 46889.26]\n",
      " [13482.27 12268.63]\n",
      " [29176.8  19199.94]\n",
      " [ 6517.97  4433.39]\n",
      " [35835.5  42969.85]\n",
      " [ 3335.51 23241.47]\n",
      " [12281.09  9140.95]\n",
      " [ 9371.95  5836.52]\n",
      " [ 6468.77  1149.4 ]\n",
      " [11114.63  8765.25]\n",
      " [14070.93 14043.48]\n",
      " [ 4957.39  5312.17]\n",
      " [ 4662.48 10795.94]\n",
      " [ 8207.67  6282.23]\n",
      " [ 1711.26  1969.61]\n",
      " [ 7393.13  6746.74]\n",
      " [ 4030.97  5354.07]\n",
      " [13347.24 14001.29]\n",
      " [ 3928.    6877.98]\n",
      " [10233.65  6196.45]\n",
      " [ 6787.39  7986.48]\n",
      " [ 9593.98  8277.52]\n",
      " [ 1987.07  3206.49]\n",
      " [13490.3  11848.14]\n",
      " [16560.7  14210.54]\n",
      " [15255.37 12265.51]\n",
      " [10957.41 11837.16]\n",
      " [ 5841.49  6652.53]\n",
      " [ 2716.48  2137.65]\n",
      " [ 2342.41  1131.51]\n",
      " [12889.1   8342.91]\n",
      " [14418.57 12244.53]\n",
      " [ 4452.54  4561.19]\n",
      " [ 4261.73 17626.24]\n",
      " [ 9728.32  6875.96]\n",
      " [ 9530.77  9447.38]\n",
      " [27756.36 34254.05]\n",
      " [ 7194.27  6067.13]\n",
      " [10078.74 11729.68]\n",
      " [ 6627.46  5383.54]\n",
      " [29490.14 37465.34]\n",
      " [11299.35  7371.77]\n",
      " [ 7094.36  7325.05]\n",
      " [10000.31  8410.05]\n",
      " [12023.98 10461.98]\n",
      " [ 2559.29  3279.87]\n",
      " [10570.79  7727.25]\n",
      " [ 1130.78  2731.91]\n",
      " [ 6649.46  6858.48]\n",
      " [28855.88 19521.97]\n",
      " [38925.24 47305.31]\n",
      " [ 6544.98  3987.93]\n",
      " [ 8401.97  3238.44]\n",
      " [ 2029.8   7323.73]\n",
      " [   49.98  1704.57]\n",
      " [10798.58  7445.92]\n",
      " [ 4493.76  1629.83]\n",
      " [ 4744.86  4877.98]\n",
      " [ 2845.8   3561.89]\n",
      " [ 7379.41  8605.36]\n",
      " [33705.22 24520.26]\n",
      " [37749.87 45710.21]\n",
      " [14536.06 15019.76]\n",
      " [ 8081.02  6664.69]\n",
      " [15537.37 20709.02]\n",
      " [33137.97 40932.43]\n",
      " [ 9059.53  9500.57]]\n"
     ]
    }
   ],
   "source": [
    "print(np.concatenate((y_pred_1.reshape(len(y_pred_1), 1), y_test_1.reshape(len(y_test_1), 1)), 1))"
   ]
  },
  {
   "cell_type": "markdown",
   "metadata": {},
   "source": [
    "## mse, rmse, r2_score (After Backward Elimination)"
   ]
  },
  {
   "cell_type": "code",
   "execution_count": 26,
   "metadata": {
    "ExecuteTime": {
     "end_time": "2020-07-06T13:44:49.747976Z",
     "start_time": "2020-07-06T13:44:49.576210Z"
    }
   },
   "outputs": [],
   "source": [
    "mse_1 = met.mean_squared_error(y_test_1, y_pred_1)\n",
    "rmse_1 = np.sqrt(mse_1)\n",
    "r2_1 = met.r2_score(y_test_1, y_pred_1)"
   ]
  },
  {
   "cell_type": "code",
   "execution_count": 27,
   "metadata": {
    "ExecuteTime": {
     "end_time": "2020-07-06T13:44:49.932228Z",
     "start_time": "2020-07-06T13:44:49.751104Z"
    }
   },
   "outputs": [
    {
     "name": "stdout",
     "output_type": "stream",
     "text": [
      "Mean Squared Error :  32171708.572455727\n",
      "Root Mean Squared Error :  5672.01098134125\n",
      "R2_Score :  0.7978274606303823\n"
     ]
    }
   ],
   "source": [
    "print('Mean Squared Error : ', mse_1)\n",
    "print('Root Mean Squared Error : ', rmse_1)\n",
    "print('R2_Score : ', r2_1)"
   ]
  }
 ],
 "metadata": {
  "kernelspec": {
   "display_name": "Python 3",
   "language": "python",
   "name": "python3"
  },
  "language_info": {
   "codemirror_mode": {
    "name": "ipython",
    "version": 3
   },
   "file_extension": ".py",
   "mimetype": "text/x-python",
   "name": "python",
   "nbconvert_exporter": "python",
   "pygments_lexer": "ipython3",
   "version": "3.8.0"
  },
  "varInspector": {
   "cols": {
    "lenName": 16,
    "lenType": 16,
    "lenVar": 40
   },
   "kernels_config": {
    "python": {
     "delete_cmd_postfix": "",
     "delete_cmd_prefix": "del ",
     "library": "var_list.py",
     "varRefreshCmd": "print(var_dic_list())"
    },
    "r": {
     "delete_cmd_postfix": ") ",
     "delete_cmd_prefix": "rm(",
     "library": "var_list.r",
     "varRefreshCmd": "cat(var_dic_list()) "
    }
   },
   "oldHeight": 369.79999999999995,
   "position": {
    "height": "391.4px",
    "left": "612.8px",
    "right": "20px",
    "top": "44px",
    "width": "377.4px"
   },
   "types_to_exclude": [
    "module",
    "function",
    "builtin_function_or_method",
    "instance",
    "_Feature"
   ],
   "varInspector_section_display": "block",
   "window_display": false
  }
 },
 "nbformat": 4,
 "nbformat_minor": 4
}
